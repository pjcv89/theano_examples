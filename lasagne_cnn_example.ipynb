{
 "cells": [
  {
   "cell_type": "markdown",
   "metadata": {},
   "source": [
    "# Convolutional Neural Networks with Theano and Lasagne"
   ]
  },
  {
   "cell_type": "markdown",
   "metadata": {},
   "source": [
    "## Sample work by Pablo Campos Viana"
   ]
  },
  {
   "cell_type": "markdown",
   "metadata": {},
   "source": [
    "This example deals with recognition of digits represented by 16x16 images. This demonstration is derived from the examples of Lasagne that can be found when installing it."
   ]
  },
  {
   "cell_type": "markdown",
   "metadata": {},
   "source": [
    "### Data wrangling\n",
    "\n",
    "We load the data into a Pandas data frame. The data were extracted from the ElemStatLearn package of R."
   ]
  },
  {
   "cell_type": "code",
   "execution_count": 1,
   "metadata": {
    "collapsed": false
   },
   "outputs": [
    {
     "name": "stdout",
     "output_type": "stream",
     "text": [
      "(7291, 257)\n",
      "(2007, 257)\n"
     ]
    },
    {
     "name": "stderr",
     "output_type": "stream",
     "text": [
      "Vendor:  Continuum Analytics, Inc.\n",
      "Package: mkl\n",
      "Message: trial mode expires in 30 days\n",
      "Vendor:  Continuum Analytics, Inc.\n",
      "Package: mkl\n",
      "Message: trial mode expires in 30 days\n"
     ]
    },
    {
     "data": {
      "text/html": [
       "<div>\n",
       "<table border=\"1\" class=\"dataframe\">\n",
       "  <thead>\n",
       "    <tr style=\"text-align: right;\">\n",
       "      <th></th>\n",
       "      <th>X1</th>\n",
       "      <th>X2</th>\n",
       "      <th>X3</th>\n",
       "      <th>X4</th>\n",
       "      <th>X5</th>\n",
       "      <th>X6</th>\n",
       "      <th>X7</th>\n",
       "      <th>X8</th>\n",
       "      <th>X9</th>\n",
       "      <th>X10</th>\n",
       "      <th>...</th>\n",
       "      <th>X248</th>\n",
       "      <th>X249</th>\n",
       "      <th>X250</th>\n",
       "      <th>X251</th>\n",
       "      <th>X252</th>\n",
       "      <th>X253</th>\n",
       "      <th>X254</th>\n",
       "      <th>X255</th>\n",
       "      <th>X256</th>\n",
       "      <th>X257</th>\n",
       "    </tr>\n",
       "  </thead>\n",
       "  <tbody>\n",
       "    <tr>\n",
       "      <th>0</th>\n",
       "      <td>6</td>\n",
       "      <td>-1</td>\n",
       "      <td>-1</td>\n",
       "      <td>-1</td>\n",
       "      <td>-1.000</td>\n",
       "      <td>-1.000</td>\n",
       "      <td>-1.000</td>\n",
       "      <td>-1.000</td>\n",
       "      <td>-0.631</td>\n",
       "      <td>0.862</td>\n",
       "      <td>...</td>\n",
       "      <td>0.304</td>\n",
       "      <td>0.823</td>\n",
       "      <td>1.000</td>\n",
       "      <td>0.482</td>\n",
       "      <td>-0.474</td>\n",
       "      <td>-0.991</td>\n",
       "      <td>-1.000</td>\n",
       "      <td>-1.000</td>\n",
       "      <td>-1.000</td>\n",
       "      <td>-1</td>\n",
       "    </tr>\n",
       "    <tr>\n",
       "      <th>1</th>\n",
       "      <td>5</td>\n",
       "      <td>-1</td>\n",
       "      <td>-1</td>\n",
       "      <td>-1</td>\n",
       "      <td>-0.813</td>\n",
       "      <td>-0.671</td>\n",
       "      <td>-0.809</td>\n",
       "      <td>-0.887</td>\n",
       "      <td>-0.671</td>\n",
       "      <td>-0.853</td>\n",
       "      <td>...</td>\n",
       "      <td>-0.671</td>\n",
       "      <td>-0.671</td>\n",
       "      <td>-0.033</td>\n",
       "      <td>0.761</td>\n",
       "      <td>0.762</td>\n",
       "      <td>0.126</td>\n",
       "      <td>-0.095</td>\n",
       "      <td>-0.671</td>\n",
       "      <td>-0.828</td>\n",
       "      <td>-1</td>\n",
       "    </tr>\n",
       "    <tr>\n",
       "      <th>2</th>\n",
       "      <td>4</td>\n",
       "      <td>-1</td>\n",
       "      <td>-1</td>\n",
       "      <td>-1</td>\n",
       "      <td>-1.000</td>\n",
       "      <td>-1.000</td>\n",
       "      <td>-1.000</td>\n",
       "      <td>-1.000</td>\n",
       "      <td>-1.000</td>\n",
       "      <td>-1.000</td>\n",
       "      <td>...</td>\n",
       "      <td>-1.000</td>\n",
       "      <td>-1.000</td>\n",
       "      <td>-1.000</td>\n",
       "      <td>-0.109</td>\n",
       "      <td>1.000</td>\n",
       "      <td>-0.179</td>\n",
       "      <td>-1.000</td>\n",
       "      <td>-1.000</td>\n",
       "      <td>-1.000</td>\n",
       "      <td>-1</td>\n",
       "    </tr>\n",
       "    <tr>\n",
       "      <th>3</th>\n",
       "      <td>7</td>\n",
       "      <td>-1</td>\n",
       "      <td>-1</td>\n",
       "      <td>-1</td>\n",
       "      <td>-1.000</td>\n",
       "      <td>-1.000</td>\n",
       "      <td>-0.273</td>\n",
       "      <td>0.684</td>\n",
       "      <td>0.960</td>\n",
       "      <td>0.450</td>\n",
       "      <td>...</td>\n",
       "      <td>-0.318</td>\n",
       "      <td>1.000</td>\n",
       "      <td>0.536</td>\n",
       "      <td>-0.987</td>\n",
       "      <td>-1.000</td>\n",
       "      <td>-1.000</td>\n",
       "      <td>-1.000</td>\n",
       "      <td>-1.000</td>\n",
       "      <td>-1.000</td>\n",
       "      <td>-1</td>\n",
       "    </tr>\n",
       "    <tr>\n",
       "      <th>4</th>\n",
       "      <td>3</td>\n",
       "      <td>-1</td>\n",
       "      <td>-1</td>\n",
       "      <td>-1</td>\n",
       "      <td>-1.000</td>\n",
       "      <td>-1.000</td>\n",
       "      <td>-0.928</td>\n",
       "      <td>-0.204</td>\n",
       "      <td>0.751</td>\n",
       "      <td>0.466</td>\n",
       "      <td>...</td>\n",
       "      <td>0.466</td>\n",
       "      <td>0.639</td>\n",
       "      <td>1.000</td>\n",
       "      <td>1.000</td>\n",
       "      <td>0.791</td>\n",
       "      <td>0.439</td>\n",
       "      <td>-0.199</td>\n",
       "      <td>-0.883</td>\n",
       "      <td>-1.000</td>\n",
       "      <td>-1</td>\n",
       "    </tr>\n",
       "    <tr>\n",
       "      <th>...</th>\n",
       "      <td>...</td>\n",
       "      <td>...</td>\n",
       "      <td>...</td>\n",
       "      <td>...</td>\n",
       "      <td>...</td>\n",
       "      <td>...</td>\n",
       "      <td>...</td>\n",
       "      <td>...</td>\n",
       "      <td>...</td>\n",
       "      <td>...</td>\n",
       "      <td>...</td>\n",
       "      <td>...</td>\n",
       "      <td>...</td>\n",
       "      <td>...</td>\n",
       "      <td>...</td>\n",
       "      <td>...</td>\n",
       "      <td>...</td>\n",
       "      <td>...</td>\n",
       "      <td>...</td>\n",
       "      <td>...</td>\n",
       "      <td>...</td>\n",
       "    </tr>\n",
       "    <tr>\n",
       "      <th>7286</th>\n",
       "      <td>3</td>\n",
       "      <td>-1</td>\n",
       "      <td>-1</td>\n",
       "      <td>-1</td>\n",
       "      <td>-0.988</td>\n",
       "      <td>-0.527</td>\n",
       "      <td>-0.208</td>\n",
       "      <td>0.620</td>\n",
       "      <td>1.000</td>\n",
       "      <td>0.467</td>\n",
       "      <td>...</td>\n",
       "      <td>-0.116</td>\n",
       "      <td>0.899</td>\n",
       "      <td>0.416</td>\n",
       "      <td>-0.510</td>\n",
       "      <td>-1.000</td>\n",
       "      <td>-1.000</td>\n",
       "      <td>-1.000</td>\n",
       "      <td>-1.000</td>\n",
       "      <td>-1.000</td>\n",
       "      <td>-1</td>\n",
       "    </tr>\n",
       "    <tr>\n",
       "      <th>7287</th>\n",
       "      <td>3</td>\n",
       "      <td>-1</td>\n",
       "      <td>-1</td>\n",
       "      <td>-1</td>\n",
       "      <td>-0.990</td>\n",
       "      <td>0.708</td>\n",
       "      <td>0.557</td>\n",
       "      <td>0.347</td>\n",
       "      <td>-0.107</td>\n",
       "      <td>-0.758</td>\n",
       "      <td>...</td>\n",
       "      <td>0.697</td>\n",
       "      <td>0.636</td>\n",
       "      <td>0.167</td>\n",
       "      <td>-0.968</td>\n",
       "      <td>-1.000</td>\n",
       "      <td>-1.000</td>\n",
       "      <td>-1.000</td>\n",
       "      <td>-1.000</td>\n",
       "      <td>-1.000</td>\n",
       "      <td>-1</td>\n",
       "    </tr>\n",
       "    <tr>\n",
       "      <th>7288</th>\n",
       "      <td>3</td>\n",
       "      <td>-1</td>\n",
       "      <td>-1</td>\n",
       "      <td>-1</td>\n",
       "      <td>-0.783</td>\n",
       "      <td>-0.984</td>\n",
       "      <td>-0.827</td>\n",
       "      <td>0.068</td>\n",
       "      <td>1.000</td>\n",
       "      <td>1.000</td>\n",
       "      <td>...</td>\n",
       "      <td>0.805</td>\n",
       "      <td>1.000</td>\n",
       "      <td>1.000</td>\n",
       "      <td>0.727</td>\n",
       "      <td>-0.342</td>\n",
       "      <td>-0.933</td>\n",
       "      <td>-1.000</td>\n",
       "      <td>-1.000</td>\n",
       "      <td>-1.000</td>\n",
       "      <td>-1</td>\n",
       "    </tr>\n",
       "    <tr>\n",
       "      <th>7289</th>\n",
       "      <td>0</td>\n",
       "      <td>-1</td>\n",
       "      <td>-1</td>\n",
       "      <td>-1</td>\n",
       "      <td>-1.000</td>\n",
       "      <td>-1.000</td>\n",
       "      <td>-0.549</td>\n",
       "      <td>0.463</td>\n",
       "      <td>0.999</td>\n",
       "      <td>0.999</td>\n",
       "      <td>...</td>\n",
       "      <td>-0.231</td>\n",
       "      <td>0.621</td>\n",
       "      <td>0.999</td>\n",
       "      <td>-0.042</td>\n",
       "      <td>-0.231</td>\n",
       "      <td>-0.687</td>\n",
       "      <td>-1.000</td>\n",
       "      <td>-1.000</td>\n",
       "      <td>-1.000</td>\n",
       "      <td>-1</td>\n",
       "    </tr>\n",
       "    <tr>\n",
       "      <th>7290</th>\n",
       "      <td>1</td>\n",
       "      <td>-1</td>\n",
       "      <td>-1</td>\n",
       "      <td>-1</td>\n",
       "      <td>-1.000</td>\n",
       "      <td>-1.000</td>\n",
       "      <td>-0.108</td>\n",
       "      <td>1.000</td>\n",
       "      <td>0.616</td>\n",
       "      <td>-0.867</td>\n",
       "      <td>...</td>\n",
       "      <td>-0.634</td>\n",
       "      <td>0.803</td>\n",
       "      <td>0.589</td>\n",
       "      <td>-0.907</td>\n",
       "      <td>-1.000</td>\n",
       "      <td>-1.000</td>\n",
       "      <td>-1.000</td>\n",
       "      <td>-1.000</td>\n",
       "      <td>-1.000</td>\n",
       "      <td>-1</td>\n",
       "    </tr>\n",
       "  </tbody>\n",
       "</table>\n",
       "<p>7291 rows × 257 columns</p>\n",
       "</div>"
      ],
      "text/plain": [
       "      X1  X2  X3  X4     X5     X6     X7     X8     X9    X10  ...    X248  \\\n",
       "0      6  -1  -1  -1 -1.000 -1.000 -1.000 -1.000 -0.631  0.862  ...   0.304   \n",
       "1      5  -1  -1  -1 -0.813 -0.671 -0.809 -0.887 -0.671 -0.853  ...  -0.671   \n",
       "2      4  -1  -1  -1 -1.000 -1.000 -1.000 -1.000 -1.000 -1.000  ...  -1.000   \n",
       "3      7  -1  -1  -1 -1.000 -1.000 -0.273  0.684  0.960  0.450  ...  -0.318   \n",
       "4      3  -1  -1  -1 -1.000 -1.000 -0.928 -0.204  0.751  0.466  ...   0.466   \n",
       "...   ..  ..  ..  ..    ...    ...    ...    ...    ...    ...  ...     ...   \n",
       "7286   3  -1  -1  -1 -0.988 -0.527 -0.208  0.620  1.000  0.467  ...  -0.116   \n",
       "7287   3  -1  -1  -1 -0.990  0.708  0.557  0.347 -0.107 -0.758  ...   0.697   \n",
       "7288   3  -1  -1  -1 -0.783 -0.984 -0.827  0.068  1.000  1.000  ...   0.805   \n",
       "7289   0  -1  -1  -1 -1.000 -1.000 -0.549  0.463  0.999  0.999  ...  -0.231   \n",
       "7290   1  -1  -1  -1 -1.000 -1.000 -0.108  1.000  0.616 -0.867  ...  -0.634   \n",
       "\n",
       "       X249   X250   X251   X252   X253   X254   X255   X256  X257  \n",
       "0     0.823  1.000  0.482 -0.474 -0.991 -1.000 -1.000 -1.000    -1  \n",
       "1    -0.671 -0.033  0.761  0.762  0.126 -0.095 -0.671 -0.828    -1  \n",
       "2    -1.000 -1.000 -0.109  1.000 -0.179 -1.000 -1.000 -1.000    -1  \n",
       "3     1.000  0.536 -0.987 -1.000 -1.000 -1.000 -1.000 -1.000    -1  \n",
       "4     0.639  1.000  1.000  0.791  0.439 -0.199 -0.883 -1.000    -1  \n",
       "...     ...    ...    ...    ...    ...    ...    ...    ...   ...  \n",
       "7286  0.899  0.416 -0.510 -1.000 -1.000 -1.000 -1.000 -1.000    -1  \n",
       "7287  0.636  0.167 -0.968 -1.000 -1.000 -1.000 -1.000 -1.000    -1  \n",
       "7288  1.000  1.000  0.727 -0.342 -0.933 -1.000 -1.000 -1.000    -1  \n",
       "7289  0.621  0.999 -0.042 -0.231 -0.687 -1.000 -1.000 -1.000    -1  \n",
       "7290  0.803  0.589 -0.907 -1.000 -1.000 -1.000 -1.000 -1.000    -1  \n",
       "\n",
       "[7291 rows x 257 columns]"
      ]
     },
     "execution_count": 1,
     "metadata": {},
     "output_type": "execute_result"
    }
   ],
   "source": [
    "import time\n",
    "import numpy as np\n",
    "import matplotlib.pyplot as plt\n",
    "from matplotlib import rcParams\n",
    "\n",
    "\n",
    "import pandas as pd\n",
    "pd.options.display.max_rows = 10\n",
    "\n",
    "\n",
    "df_train = pd.read_csv('zip_train.csv', sep=',')\n",
    "df_test = pd.read_csv('zip_test.csv', sep=',')\n",
    "print df_train.shape\n",
    "print df_test.shape\n",
    "df_train"
   ]
  },
  {
   "cell_type": "markdown",
   "metadata": {},
   "source": [
    "We extract the columns with the intensities of the pixels and convert them into vectors of numpy, and we also extract the labels:"
   ]
  },
  {
   "cell_type": "code",
   "execution_count": 2,
   "metadata": {
    "collapsed": false
   },
   "outputs": [
    {
     "name": "stdout",
     "output_type": "stream",
     "text": [
      "(7291, 256)\n",
      "[[-1.         -1.         -1.         ..., -1.         -1.         -1.        ]\n",
      " [-1.         -1.         -1.         ..., -0.671      -0.82800001 -1.        ]\n",
      " [-1.         -1.         -1.         ..., -1.         -1.         -1.        ]\n",
      " ..., \n",
      " [-1.         -1.         -1.         ..., -1.         -1.         -1.        ]\n",
      " [-1.         -1.         -1.         ..., -1.         -1.         -1.        ]\n",
      " [-1.         -1.         -1.         ..., -1.         -1.         -1.        ]]\n",
      "[6 5 4 ..., 3 0 1]\n"
     ]
    }
   ],
   "source": [
    "x_train_1 = np.float32(df_train.iloc[:,1:257].values)\n",
    "x_test_1 = np.float32(df_test.iloc[:,1:257].values)\n",
    "y_train = np.int32(df_train['X1'])\n",
    "y_test = np.int32(df_test['X1'])\n",
    "\n",
    "print x_train_1.shape\n",
    "print x_train_1\n",
    "print y_train"
   ]
  },
  {
   "cell_type": "markdown",
   "metadata": {},
   "source": [
    "Now we plot the data. Note that in this example we fill dark pixels around the image. We do this in order to be able to do 5x5 convolution over all pixels of the image to make convolutions that cover all pixels in all possible positions:"
   ]
  },
  {
   "cell_type": "code",
   "execution_count": 3,
   "metadata": {
    "collapsed": false
   },
   "outputs": [
    {
     "data": {
      "image/png": "[encoded data removed]",
      "text/plain": [
       "<matplotlib.figure.Figure at 0x7febc65afb90>"
      ]
     },
     "metadata": {},
     "output_type": "display_data"
    },
    {
     "name": "stdout",
     "output_type": "stream",
     "text": [
      "6\n"
     ]
    }
   ],
   "source": [
    "%matplotlib inline\n",
    "plt.imshow(np.lib.pad(x_train_1[0,].reshape(16,16), (6,6), mode='constant', constant_values=-1))\n",
    "plt.show()\n",
    "print y_train[0]"
   ]
  },
  {
   "cell_type": "markdown",
   "metadata": {},
   "source": [
    "Here we pad the images, and convert them to matrices of 16x16. Note that now the training and test sets are 4-dimensional arrays (number of cases, 1, high image, image width). If they were color images the second dimension would be size 3 instead of 1."
   ]
  },
  {
   "cell_type": "code",
   "execution_count": 4,
   "metadata": {
    "collapsed": false
   },
   "outputs": [
    {
     "name": "stdout",
     "output_type": "stream",
     "text": [
      "(28, 28)\n",
      "(7291, 1, 28, 28)\n",
      "(2007, 1, 28, 28)\n"
     ]
    }
   ],
   "source": [
    "n_pad = 6\n",
    "x_train = np.pad(x_train_1.reshape(x_train_1.shape[0], 1, 16, 16), \n",
    "                 ((0,0),(0,0),(n_pad,n_pad),(n_pad,n_pad)), mode='constant', constant_values=-1)\n",
    "x_test = np.pad(x_test_1.reshape(x_test_1.shape[0], 1, 16, 16), \n",
    "                ((0,0),(0,0),(n_pad,n_pad),(n_pad,n_pad)), mode='constant', constant_values=-1)\n",
    "\n",
    "print x_train[5][0].shape\n",
    "print x_train.shape\n",
    "print x_test.shape\n",
    "#x_train[5][0]"
   ]
  },
  {
   "cell_type": "markdown",
   "metadata": {},
   "source": [
    "We need a function to iterate over the data in mini-batches. This function is an iterator:"
   ]
  },
  {
   "cell_type": "code",
   "execution_count": 5,
   "metadata": {
    "collapsed": true
   },
   "outputs": [],
   "source": [
    "def iterar_minilotes(entradas, respuesta, n_lote, mezclar):\n",
    "    if mezclar:\n",
    "        indices = np.arange(len(entradas))\n",
    "        np.random.shuffle(indices)\n",
    "    for i in range(0, len(entradas) - n_lote + 1, n_lote):\n",
    "        if mezclar:\n",
    "            parte = indices[i:i + n_lote]\n",
    "        else:\n",
    "            parte = slice(i, i + n_lote)\n",
    "        yield entradas[parte], respuesta[parte]"
   ]
  },
  {
   "cell_type": "code",
   "execution_count": 6,
   "metadata": {
    "collapsed": false
   },
   "outputs": [
    {
     "name": "stdout",
     "output_type": "stream",
     "text": [
      "[5 0 8 8 2 6]\n",
      "[0 7 8 4 1 6]\n",
      "[5 7 7 6 1 3]\n"
     ]
    }
   ],
   "source": [
    "it = iterar_minilotes(x_train, y_train, 6, mezclar = True)\n",
    "a,b = it.next()\n",
    "print b\n",
    "a,b = it.next()\n",
    "print b\n",
    "a,b = it.next()\n",
    "print b\n",
    "\n",
    "for a,b in it:\n",
    "    pass\n"
   ]
  },
  {
   "cell_type": "markdown",
   "metadata": {},
   "source": [
    " ### Network architecture\n",
    " \n",
    "The code that follows is derived from the [examples of Lasagne] (https://github.com/Lasagne/Lasagne/blob/master/examples/mnist.py). We load the libraries we need."
   ]
  },
  {
   "cell_type": "code",
   "execution_count": 7,
   "metadata": {
    "collapsed": false
   },
   "outputs": [],
   "source": [
    "import lasagne\n",
    "from lasagne import layers\n",
    "from lasagne.nonlinearities import  softmax, rectify, sigmoid\n",
    "import theano\n",
    "import theano.tensor as T\n",
    "from lasagne.regularization import regularize_layer_params_weighted, l2"
   ]
  },
  {
   "cell_type": "markdown",
   "metadata": {},
   "source": [
    "We define variables for the size of the input data and for the batch size:"
   ]
  },
  {
   "cell_type": "code",
   "execution_count": 8,
   "metadata": {
    "collapsed": true
   },
   "outputs": [],
   "source": [
    "im_ancho = 16 + 2*n_pad\n",
    "im_alto = 16 + 2*n_pad"
   ]
  },
  {
   "cell_type": "code",
   "execution_count": 9,
   "metadata": {
    "collapsed": false
   },
   "outputs": [],
   "source": [
    "n_lote=400"
   ]
  },
  {
   "cell_type": "markdown",
   "metadata": {},
   "source": [
    "We now define the architecture of the network, which in this first example has:\n",
    "\n",
    "1. a convolution layer with 8 filters,\n",
    "2. a layer of max pooling, then\n",
    "3. a convolution layer with 30 filters,\n",
    "4. a layer of max pooling,\n",
    "5. a hidden layer fully connected with 100 units, and finally\n",
    "6. the output layer that is fully connected:"
   ]
  },
  {
   "cell_type": "code",
   "execution_count": 10,
   "metadata": {
    "collapsed": false
   },
   "outputs": [],
   "source": [
    "entrada_var = T.tensor4('entradas')\n",
    "respuesta_var = T.ivector('respuesta')\n",
    "\n",
    "# Set the seed\n",
    "\n",
    "np.random.seed(108783)\n",
    "\n",
    "capa_entrada = layers.InputLayer((n_lote, 1, im_ancho, im_alto), entrada_var)\n",
    "\n",
    "capa_conv_1 = layers.Conv2DLayer(\n",
    "    capa_entrada,\n",
    "    num_filters = 4,\n",
    "    filter_size = (5,5),\n",
    "    nonlinearity = rectify)\n",
    "\n",
    "capa_pool_1 = layers.MaxPool2DLayer(\n",
    "    capa_conv_1,\n",
    "    pool_size = (2,2)\n",
    ")\n",
    "\n",
    "capa_conv_2 = layers.Conv2DLayer(\n",
    "    capa_pool_1,\n",
    "    num_filters = 10,\n",
    "    filter_size = (5,5),\n",
    "    nonlinearity = rectify\n",
    ")\n",
    "\n",
    "capa_pool_2 = layers.MaxPool2DLayer(\n",
    "    capa_conv_2,\n",
    "    pool_size = (2,2)\n",
    ")\n",
    "\n",
    "capa_salida = layers.DenseLayer(\n",
    "    capa_pool_2,\n",
    "    num_units = 10,\n",
    "    nonlinearity = softmax\n",
    ")"
   ]
  },
  {
   "cell_type": "markdown",
   "metadata": {},
   "source": [
    "The network has the following number of parameters:"
   ]
  },
  {
   "cell_type": "code",
   "execution_count": 11,
   "metadata": {
    "collapsed": false
   },
   "outputs": [
    {
     "name": "stdout",
     "output_type": "stream",
     "text": [
      "2724\n",
      "(4, 1, 5, 5)\n",
      "(10, 4, 5, 5)\n",
      "(160, 10)\n"
     ]
    }
   ],
   "source": [
    "print layers.count_params(capa_salida)\n",
    "print capa_conv_1.W.get_value().shape\n",
    "print capa_conv_2.W.get_value().shape\n",
    "print capa_salida.W.get_value().shape"
   ]
  },
  {
   "cell_type": "markdown",
   "metadata": {},
   "source": [
    "Visualization of the initialization of the first layer"
   ]
  },
  {
   "cell_type": "code",
   "execution_count": 12,
   "metadata": {
    "collapsed": false
   },
   "outputs": [
    {
     "name": "stdout",
     "output_type": "stream",
     "text": [
      "(4, 1, 5, 5)\n",
      "[[ 0.0565251  -0.08251839  0.17667115 -0.02756546 -0.05157032]\n",
      " [ 0.09568525 -0.1842831  -0.03519461  0.16370482 -0.12729171]\n",
      " [-0.03877953 -0.07344629  0.07368634  0.12570551  0.04015345]\n",
      " [ 0.19305865 -0.15716614 -0.17324495 -0.04129327  0.14976537]\n",
      " [-0.21790075 -0.02240178  0.01623938  0.0571516   0.17978525]]\n"
     ]
    },
    {
     "data": {
      "image/png": "[encoded data removed]",
      "text/plain": [
       "<matplotlib.figure.Figure at 0x7febb8c51050>"
      ]
     },
     "metadata": {},
     "output_type": "display_data"
    },
    {
     "data": {
      "image/png": "[encoded data removed]",
      "text/plain": [
       "<matplotlib.figure.Figure at 0x7febb890dc50>"
      ]
     },
     "metadata": {},
     "output_type": "display_data"
    }
   ],
   "source": [
    "import matplotlib.cm as cm\n",
    "import matplotlib.gridspec as gridspec\n",
    "\n",
    "pesos_1 = capa_conv_1.W.get_value()\n",
    "pesos_2 =  capa_conv_2.W.get_value()\n",
    "print pesos_1.shape\n",
    "print pesos_1[0,0,:,:]\n",
    "\n",
    "fig  = plt.figure()\n",
    "num_filt_1 = pesos_1.shape[0]\n",
    "gs = gridspec.GridSpec(1, num_filt_1)\n",
    "ax = [plt.subplot(gs[i]) for i in range(num_filt_1)]\n",
    "gs.update(hspace=0)\n",
    "gs.tight_layout(fig, h_pad=-2.0,w_pad=0.0)\n",
    "for i in range(num_filt_1):\n",
    "    ax[i].imshow(pesos_1[i,0,:,:], cmap = cm.Greys_r,  interpolation = 'none')\n",
    "fig  = plt.figure()\n",
    "num_filt_1 = pesos_1.shape[0]\n",
    "gs = gridspec.GridSpec(1, num_filt_1)\n",
    "ax = [plt.subplot(gs[i]) for i in range(num_filt_1)]\n",
    "gs.update(hspace=0)\n",
    "gs.tight_layout(fig, h_pad=-2.0,w_pad=0.0)\n",
    "for i in range(num_filt_1):\n",
    "    ax[i].imshow(pesos_1[i,0,:,:], cmap = cm.Greys_r)#, interpolation = 'none')\n",
    " "
   ]
  },
  {
   "cell_type": "markdown",
   "metadata": {},
   "source": [
    "### Loss function and optimization \n",
    "\n",
    "First we define the functions necessary to calculate the loss."
   ]
  },
  {
   "cell_type": "code",
   "execution_count": 13,
   "metadata": {
    "collapsed": false
   },
   "outputs": [],
   "source": [
    "salida = lasagne.layers.get_output(capa_salida)\n",
    "salida\n",
    "perdida = lasagne.objectives.categorical_crossentropy(salida, respuesta_var)\n",
    "perdida = perdida.mean()"
   ]
  },
  {
   "cell_type": "markdown",
   "metadata": {},
   "source": [
    "We can set the regularization simply by adding to the loss we set out above. Regularization is a parameter that we can also fine tune:"
   ]
  },
  {
   "cell_type": "code",
   "execution_count": 14,
   "metadata": {
    "collapsed": false
   },
   "outputs": [],
   "source": [
    "reg_capas = {capa_conv_1:0.02, capa_conv_2:0.02, capa_salida:0.02}\n",
    "\n",
    "l2_penalizacion = regularize_layer_params_weighted(reg_capas, l2)\n",
    "perdida_reg = perdida + l2_penalizacion"
   ]
  },
  {
   "cell_type": "markdown",
   "metadata": {},
   "source": [
    "And now we repeat to calculate on the test sample, also adding a function to calculate the incorrect classification rate:"
   ]
  },
  {
   "cell_type": "code",
   "execution_count": 15,
   "metadata": {
    "collapsed": false
   },
   "outputs": [],
   "source": [
    "salida_prueba = lasagne.layers.get_output(capa_salida, deterministic=True)\n",
    "perdida_pr = lasagne.objectives.categorical_crossentropy(salida_prueba, respuesta_var)\n",
    "perdida_pr = perdida_pr.mean()\n",
    "error_pr = T.mean(T.eq(T.argmax(salida_prueba, axis=1), respuesta_var))"
   ]
  },
  {
   "cell_type": "markdown",
   "metadata": {},
   "source": [
    "### Training\n",
    "In this part we define the parameters on which we want to optimize, and we use the SGD update. In this part we can adjust the `learning_rate` to fine-tune the convergence. In what follows:\n",
    "\n",
    "- We will train using ** mini-batch SGD **.\n",
    "- Choose the ** mini-batch size ** small enough not to exceed the memory of the GPU, and increase to have faster convergence. With mini-batches too small it can take more than one pass on all the data (pass data from cpu to gpu).\n",
    "- An ** epoch ** is full pass through the training set.\n",
    "- The ** learning rate ** has to be small enough to avoid divergence. If the algorithm seems to converge on average but fluctuates a lot toward the end, we can lower the learning rate slightly and get a slightly better solution. It can be reduced toward the end of training as well."
   ]
  },
  {
   "cell_type": "code",
   "execution_count": 16,
   "metadata": {
    "collapsed": false
   },
   "outputs": [],
   "source": [
    "params = lasagne.layers.get_all_params(capa_salida, trainable = True)\n",
    "updates = lasagne.updates.sgd(perdida_reg, params, learning_rate=0.025)"
   ]
  },
  {
   "cell_type": "code",
   "execution_count": 17,
   "metadata": {
    "collapsed": false
   },
   "outputs": [],
   "source": [
    "entrena_fn = theano.function([entrada_var, respuesta_var], perdida, updates = updates)\n",
    "valid_fn = theano.function([entrada_var, respuesta_var], [perdida_pr, error_pr])"
   ]
  },
  {
   "cell_type": "markdown",
   "metadata": {},
   "source": [
    "And finally we define the following function to do the training"
   ]
  },
  {
   "cell_type": "code",
   "execution_count": 18,
   "metadata": {
    "collapsed": false
   },
   "outputs": [],
   "source": [
    "def ajustar_red(num_epochs, x_train,y_train, x_test,y_test, entrena_fn, valid_fn):\n",
    "    for epoch in range(num_epochs):\n",
    "        train_err = 0\n",
    "        train_batches = 0\n",
    "        start_time = time.time()\n",
    "        for batch in iterar_minilotes(x_train, y_train, n_lote, mezclar = True):\n",
    "            inputs, targets = batch\n",
    "            train_err += entrena_fn(inputs, targets)\n",
    "            train_batches += 1\n",
    "        # And a full pass over the validation data:\n",
    "        val_err = 0\n",
    "        val_acc = 0\n",
    "        val_batches = 0\n",
    "        for batch in iterar_minilotes(x_test, y_test, n_lote, mezclar=False):\n",
    "            inputs, targets = batch\n",
    "            err, acc = valid_fn(inputs, targets)\n",
    "            val_err += err\n",
    "            val_acc += acc\n",
    "            val_batches += 1\n",
    "\n",
    "        # Then we print the results for this epoch:\n",
    "        if(epoch % 10 == 0 or epoch < 10):\n",
    "            print(\"Epoch {} of {} took {:.3f}s\".format(\n",
    "                epoch + 1, num_epochs, time.time() - start_time))\n",
    "            print(\"  training loss:\\t\\t{:.4f}\".format(train_err / train_batches))\n",
    "            print(\"  test loss:     \\t\\t{:.4f}\".format(val_err / val_batches))\n",
    "            print(\"  accuracy on test: \\t\\t{:.2f} %\".format(\n",
    "                val_acc / val_batches * 100))"
   ]
  },
  {
   "cell_type": "code",
   "execution_count": 19,
   "metadata": {
    "collapsed": false
   },
   "outputs": [
    {
     "name": "stdout",
     "output_type": "stream",
     "text": [
      "Epoch 1 of 150 took 1.331s\n",
      "  training loss:\t\t2.1888\n",
      "  test loss:     \t\t1.9324\n",
      "  accuracy on test: \t\t40.30 %\n",
      "Epoch 2 of 150 took 1.315s\n",
      "  training loss:\t\t1.8344\n",
      "  test loss:     \t\t1.4824\n",
      "  accuracy on test: \t\t56.90 %\n",
      "Epoch 3 of 150 took 1.339s\n",
      "  training loss:\t\t1.3374\n",
      "  test loss:     \t\t0.9993\n",
      "  accuracy on test: \t\t68.65 %\n",
      "Epoch 4 of 150 took 1.337s\n",
      "  training loss:\t\t0.8142\n",
      "  test loss:     \t\t0.6939\n",
      "  accuracy on test: \t\t78.60 %\n",
      "Epoch 5 of 150 took 1.299s\n",
      "  training loss:\t\t0.5724\n",
      "  test loss:     \t\t0.6683\n",
      "  accuracy on test: \t\t78.70 %\n",
      "Epoch 6 of 150 took 1.330s\n",
      "  training loss:\t\t0.4600\n",
      "  test loss:     \t\t0.5149\n",
      "  accuracy on test: \t\t84.35 %\n",
      "Epoch 7 of 150 took 1.301s\n",
      "  training loss:\t\t0.4046\n",
      "  test loss:     \t\t0.5227\n",
      "  accuracy on test: \t\t83.95 %\n",
      "Epoch 8 of 150 took 1.296s\n",
      "  training loss:\t\t0.3471\n",
      "  test loss:     \t\t0.4593\n",
      "  accuracy on test: \t\t86.15 %\n",
      "Epoch 9 of 150 took 1.328s\n",
      "  training loss:\t\t0.3395\n",
      "  test loss:     \t\t0.4335\n",
      "  accuracy on test: \t\t87.50 %\n",
      "Epoch 10 of 150 took 1.319s\n",
      "  training loss:\t\t0.2984\n",
      "  test loss:     \t\t0.4377\n",
      "  accuracy on test: \t\t87.40 %\n",
      "Epoch 11 of 150 took 1.230s\n",
      "  training loss:\t\t0.2889\n",
      "  test loss:     \t\t0.4194\n",
      "  accuracy on test: \t\t87.95 %\n",
      "Epoch 21 of 150 took 1.224s\n",
      "  training loss:\t\t0.2157\n",
      "  test loss:     \t\t0.3539\n",
      "  accuracy on test: \t\t90.10 %\n",
      "Epoch 31 of 150 took 1.224s\n",
      "  training loss:\t\t0.1840\n",
      "  test loss:     \t\t0.3319\n",
      "  accuracy on test: \t\t90.05 %\n",
      "Epoch 41 of 150 took 1.224s\n",
      "  training loss:\t\t0.1712\n",
      "  test loss:     \t\t0.3067\n",
      "  accuracy on test: \t\t91.30 %\n",
      "Epoch 51 of 150 took 1.224s\n",
      "  training loss:\t\t0.1618\n",
      "  test loss:     \t\t0.2923\n",
      "  accuracy on test: \t\t92.05 %\n",
      "Epoch 61 of 150 took 1.270s\n",
      "  training loss:\t\t0.1545\n",
      "  test loss:     \t\t0.2936\n",
      "  accuracy on test: \t\t91.50 %\n",
      "Epoch 71 of 150 took 1.327s\n",
      "  training loss:\t\t0.1477\n",
      "  test loss:     \t\t0.2844\n",
      "  accuracy on test: \t\t91.65 %\n",
      "Epoch 81 of 150 took 1.225s\n",
      "  training loss:\t\t0.1463\n",
      "  test loss:     \t\t0.2772\n",
      "  accuracy on test: \t\t92.45 %\n",
      "Epoch 91 of 150 took 1.704s\n",
      "  training loss:\t\t0.1493\n",
      "  test loss:     \t\t0.2771\n",
      "  accuracy on test: \t\t91.75 %\n",
      "Epoch 101 of 150 took 1.703s\n",
      "  training loss:\t\t0.1401\n",
      "  test loss:     \t\t0.2715\n",
      "  accuracy on test: \t\t92.85 %\n",
      "Epoch 111 of 150 took 1.702s\n",
      "  training loss:\t\t0.1391\n",
      "  test loss:     \t\t0.2756\n",
      "  accuracy on test: \t\t92.05 %\n",
      "Epoch 121 of 150 took 1.220s\n",
      "  training loss:\t\t0.1373\n",
      "  test loss:     \t\t0.2655\n",
      "  accuracy on test: \t\t92.40 %\n",
      "Epoch 131 of 150 took 1.220s\n",
      "  training loss:\t\t0.1422\n",
      "  test loss:     \t\t0.2635\n",
      "  accuracy on test: \t\t92.85 %\n",
      "Epoch 141 of 150 took 1.223s\n",
      "  training loss:\t\t0.1324\n",
      "  test loss:     \t\t0.2608\n",
      "  accuracy on test: \t\t93.15 %\n"
     ]
    }
   ],
   "source": [
    "ajustar_red(150, x_train,y_train, x_test,y_test, entrena_fn, valid_fn)"
   ]
  },
  {
   "cell_type": "markdown",
   "metadata": {},
   "source": [
    "We can understand the operation of the network by checking the weights. For the first convolution layer:"
   ]
  },
  {
   "cell_type": "code",
   "execution_count": 20,
   "metadata": {
    "collapsed": false
   },
   "outputs": [
    {
     "name": "stdout",
     "output_type": "stream",
     "text": [
      "(4, 1, 5, 5)\n",
      "[[[[-0.03961486 -0.02919225  0.04090276  0.0858778   0.04599696]\n",
      "   [-0.04797039 -0.06739537  0.00186665  0.13589649  0.08640643]\n",
      "   [-0.06685326 -0.09147421 -0.03580535  0.12540642  0.12218697]\n",
      "   [-0.05289174 -0.10393843 -0.06006335  0.09525951  0.13272537]\n",
      "   [-0.08600824 -0.09142419 -0.03076743  0.08896907  0.10087887]]]\n",
      "\n",
      "\n",
      " [[[-0.06848658 -0.06603821 -0.0482289   0.07840274  0.12488037]\n",
      "   [-0.07473032 -0.0972591  -0.04529598  0.13350817  0.13248825]\n",
      "   [-0.08605989 -0.11437598 -0.04997742  0.17973072  0.10251708]\n",
      "   [-0.09415003 -0.12140688  0.02571099  0.18858246  0.04084009]\n",
      "   [-0.08224307 -0.08009207  0.06913575  0.13435397  0.00410255]]]\n",
      "\n",
      "\n",
      " [[[-0.26676517 -0.36861648 -0.41857334 -0.40863293 -0.32433691]\n",
      "   [-0.41806334 -0.55032007 -0.52542322 -0.5123044  -0.44603225]\n",
      "   [-0.53880872 -0.60811135 -0.57641964 -0.5455771  -0.5171224 ]\n",
      "   [-0.42814663 -0.5124543  -0.50844965 -0.4631005  -0.44137002]\n",
      "   [-0.2818066  -0.36590169 -0.34700957 -0.29016129 -0.27932624]]]\n",
      "\n",
      "\n",
      " [[[-0.01037098 -0.06859907 -0.11652321 -0.11482543 -0.09180796]\n",
      "   [ 0.0266187  -0.0289327  -0.11369578 -0.10928837 -0.12539756]\n",
      "   [ 0.05995266  0.11105927  0.04328492 -0.0443588  -0.05349591]\n",
      "   [ 0.04803411  0.14807262  0.18450104  0.14109675  0.0922037 ]\n",
      "   [-0.05378057  0.00371932  0.10693806  0.17520645  0.11831666]]]]\n",
      "[[-0.03961486 -0.02919225  0.04090276  0.0858778   0.04599696]\n",
      " [-0.04797039 -0.06739537  0.00186665  0.13589649  0.08640643]\n",
      " [-0.06685326 -0.09147421 -0.03580535  0.12540642  0.12218697]\n",
      " [-0.05289174 -0.10393843 -0.06006335  0.09525951  0.13272537]\n",
      " [-0.08600824 -0.09142419 -0.03076743  0.08896907  0.10087887]]\n",
      "0.188582456944\n",
      "-0.608111351773\n"
     ]
    },
    {
     "data": {
      "image/png": "[encoded data removed]",
      "text/plain": [
       "<matplotlib.figure.Figure at 0x7feb9e9ac210>"
      ]
     },
     "metadata": {},
     "output_type": "display_data"
    }
   ],
   "source": [
    "import matplotlib.cm as cm\n",
    "import matplotlib.gridspec as gridspec\n",
    "rcParams['figure.figsize'] = (6,10)\n",
    "\n",
    "\n",
    "pesos_1 = capa_conv_1.W.get_value()\n",
    "print pesos_1.shape\n",
    "print pesos_1\n",
    "print pesos_1[0,0,:,:]\n",
    "print np.amax(pesos_1)\n",
    "print np.amin(pesos_1)\n",
    "\n",
    "fig  = plt.figure()\n",
    "num_filt_1 = pesos_1.shape[0]\n",
    "gs = gridspec.GridSpec(1, num_filt_1)\n",
    "ax = [plt.subplot(gs[i]) for i in range(num_filt_1)]\n",
    "gs.update(hspace=0)\n",
    "gs.tight_layout(fig, h_pad=-2.0,w_pad=0.0)\n",
    "for i in range(num_filt_1):\n",
    "    ax[i].imshow(pesos_1[i,0,:,:], cmap = cm.Greys_r, interpolation = 'none')\n",
    "    #ax[i].axis('off')"
   ]
  },
  {
   "cell_type": "markdown",
   "metadata": {},
   "source": [
    "As we see, these are simple filters that try to extract edges or gradients in the images.\n",
    "\n",
    "The following layers are more difficult to understand. In the second layer, we have 8 filters for each of the eight filtered images of the previous layer:"
   ]
  },
  {
   "cell_type": "code",
   "execution_count": 21,
   "metadata": {
    "collapsed": false
   },
   "outputs": [
    {
     "name": "stdout",
     "output_type": "stream",
     "text": [
      "(10, 4, 5, 5)\n",
      "-0.348804445223 0.268361577087\n"
     ]
    }
   ],
   "source": [
    "pesos_2 = capa_conv_2.W.get_value()\n",
    "print pesos_2.shape\n",
    "pesos_2[:,0,:,:]\n",
    "max_w = np.amax(pesos_2)\n",
    "min_w = np.amin(pesos_2)\n",
    "print min_w, max_w"
   ]
  },
  {
   "cell_type": "markdown",
   "metadata": {},
   "source": [
    "For example, we extract the weights of the first filter for the filtered data of the first previous layer:"
   ]
  },
  {
   "cell_type": "code",
   "execution_count": 22,
   "metadata": {
    "collapsed": false
   },
   "outputs": [
    {
     "name": "stdout",
     "output_type": "stream",
     "text": [
      "(5, 5)\n",
      "[[ 0.07091217 -0.01773565 -0.00585395  0.02022882  0.01560204]\n",
      " [ 0.09713439 -0.01917026 -0.01003876  0.01377542  0.00830648]\n",
      " [ 0.13848266  0.02095497 -0.01348152 -0.00238621 -0.00223248]\n",
      " [ 0.09541082  0.03981987  0.01514193 -0.00171983 -0.00427593]\n",
      " [ 0.05743114  0.03123816  0.01792667 -0.00941712 -0.01108443]]\n"
     ]
    }
   ],
   "source": [
    "W_1 = pesos_2[0,0,:,:]\n",
    "np.set_printoptions(suppress = True)\n",
    "print W_1.shape\n",
    "print W_1[:,:]"
   ]
  },
  {
   "cell_type": "code",
   "execution_count": 23,
   "metadata": {
    "collapsed": false
   },
   "outputs": [
    {
     "name": "stdout",
     "output_type": "stream",
     "text": [
      "4 10\n"
     ]
    },
    {
     "data": {
      "image/png": "[encoded data removed]",
      "text/plain": [
       "<matplotlib.figure.Figure at 0x7feb9e9b1d50>"
      ]
     },
     "metadata": {},
     "output_type": "display_data"
    }
   ],
   "source": [
    "rcParams['figure.figsize'] = (10, 10)\n",
    "\n",
    "fig  = plt.figure()\n",
    "num_filt_2 = pesos_2.shape[0]\n",
    "gs = gridspec.GridSpec(num_filt_1, num_filt_2, wspace=0.0,hspace=0.0)\n",
    "print num_filt_1, num_filt_2\n",
    "ax = [plt.subplot(gs[i]) for i in range(num_filt_1*num_filt_2)]\n",
    "gs.update(hspace=5)\n",
    "gs.tight_layout(fig, h_pad=-7.0,w_pad=-2.0)\n",
    "for i in range(num_filt_1):\n",
    "    for j in range(num_filt_2):\n",
    "        ax[num_filt_2*i+j].imshow(pesos_2[j,i,:,:], cmap = cm.Greys_r, clim=(min_w/2,max_w/2),interpolation='none')\n",
    "        #ax[num_filt_2*i+j].axis('off')"
   ]
  },
  {
   "cell_type": "markdown",
   "metadata": {},
   "source": [
    "### Plots of the activations"
   ]
  },
  {
   "cell_type": "code",
   "execution_count": 24,
   "metadata": {
    "collapsed": false
   },
   "outputs": [
    {
     "name": "stdout",
     "output_type": "stream",
     "text": [
      "(2007, 4, 24, 24)\n",
      "(4, 24, 24)\n",
      "(2007, 10, 4, 4)\n"
     ]
    },
    {
     "data": {
      "image/png": "[encoded data removed]",
      "text/plain": [
       "<matplotlib.figure.Figure at 0x7feb8fc8b050>"
      ]
     },
     "metadata": {},
     "output_type": "display_data"
    },
    {
     "data": {
      "image/png": "[encoded data removed]",
      "text/plain": [
       "<matplotlib.figure.Figure at 0x7feb8d4122d0>"
      ]
     },
     "metadata": {},
     "output_type": "display_data"
    },
    {
     "data": {
      "image/png": "[encoded data removed]",
      "text/plain": [
       "<matplotlib.figure.Figure at 0x7feb8fc8b150>"
      ]
     },
     "metadata": {},
     "output_type": "display_data"
    },
    {
     "data": {
      "image/png": "[encoded data removed]",
      "text/plain": [
       "<matplotlib.figure.Figure at 0x7feb8ca89110>"
      ]
     },
     "metadata": {},
     "output_type": "display_data"
    },
    {
     "data": {
      "image/png": "[encoded data removed]",
      "text/plain": [
       "<matplotlib.figure.Figure at 0x7feb8cb54690>"
      ]
     },
     "metadata": {},
     "output_type": "display_data"
    },
    {
     "data": {
      "image/png": "[encoded data removed]",
      "text/plain": [
       "<matplotlib.figure.Figure at 0x7feb8c30fb90>"
      ]
     },
     "metadata": {},
     "output_type": "display_data"
    },
    {
     "data": {
      "image/png": "[encoded data removed]",
      "text/plain": [
       "<matplotlib.figure.Figure at 0x7feb8c412090>"
      ]
     },
     "metadata": {},
     "output_type": "display_data"
    },
    {
     "data": {
      "image/png": "[encoded data removed]",
      "text/plain": [
       "<matplotlib.figure.Figure at 0x7feb87b90490>"
      ]
     },
     "metadata": {},
     "output_type": "display_data"
    },
    {
     "data": {
      "image/png": "[encoded data removed]",
      "text/plain": [
       "<matplotlib.figure.Figure at 0x7feb87c9d050>"
      ]
     },
     "metadata": {},
     "output_type": "display_data"
    },
    {
     "data": {
      "image/png": "[encoded data removed]",
      "text/plain": [
       "<matplotlib.figure.Figure at 0x7feb87448050>"
      ]
     },
     "metadata": {},
     "output_type": "display_data"
    },
    {
     "data": {
      "image/png": "[encoded data removed]",
      "text/plain": [
       "<matplotlib.figure.Figure at 0x7feb87420390>"
      ]
     },
     "metadata": {},
     "output_type": "display_data"
    },
    {
     "data": {
      "image/png": "[encoded data removed]",
      "text/plain": [
       "<matplotlib.figure.Figure at 0x7feb86cffa90>"
      ]
     },
     "metadata": {},
     "output_type": "display_data"
    }
   ],
   "source": [
    "\n",
    "salida_c1 = lasagne.layers.get_output(capa_conv_1, deterministic=True)\n",
    "predict_c1 = theano.function([entrada_var], salida_c1)\n",
    "preds_c1 = predict_c1(x_test[:,:,:,:])\n",
    "print preds_c1.shape\n",
    "\n",
    "print preds_c1[11,:,:,:].shape\n",
    "\n",
    "salida_c2 = lasagne.layers.get_output(capa_pool_2, deterministic=True)\n",
    "predict_c2 = theano.function([entrada_var], salida_c2)\n",
    "preds_c2 = predict_c2(x_test[:,:,:,:])\n",
    "print preds_c2.shape\n",
    "max_w = np.amax(preds_c2[:,:,:,:])\n",
    "min_w = np.amin(preds_c2[:,:,:,:])\n",
    "\n",
    "def plot_activ(n_fig):\n",
    "    #rcParams['figure.figsize'] = (2, 3)\n",
    "    #plt.imshow(x_test[n_fig,0,:,:], cmap = cm.Greys_r)\n",
    "    rcParams['figure.figsize'] = (4,4)\n",
    "    ## 1a capa\n",
    "    fig  = plt.figure()\n",
    "    gs = gridspec.GridSpec(1, 4, wspace=0.0,hspace=0.0)\n",
    "    ax = [plt.subplot(gs[i]) for i in range(4)]\n",
    "    for i in range(4):\n",
    "        ax[i].imshow(preds_c1[n_fig,i,:,:])\n",
    "    # 2a capa\n",
    "    rcParams['figure.figsize'] = (12,6)\n",
    "    fig  = plt.figure()\n",
    "    gs = gridspec.GridSpec(1, 10, wspace=0.0,hspace=0.0)\n",
    "    ax = [plt.subplot(gs[i]) for i in range(10)]\n",
    "    gs.tight_layout(fig, h_pad=-0.0,w_pad=-0.0)\n",
    "\n",
    "    for i in range(10):\n",
    "        max_w = np.amax(preds_c2[n_fig,i,:,:])\n",
    "        min_w = np.amin(preds_c2[n_fig,i,:,:])\n",
    "        ax[i].imshow(preds_c2[n_fig,i,:,:], cmap = cm.Greys_r, interpolation='none',\n",
    "                     clim=(min_w,max_w))\n",
    "        ax[i].axis('off')\n",
    "\n",
    "plot_activ(11)\n",
    "plot_activ(20)\n",
    "plot_activ(58)\n",
    "plot_activ(13)\n",
    "plot_activ(62)\n",
    "plot_activ(65)"
   ]
  },
  {
   "cell_type": "markdown",
   "metadata": {
    "collapsed": true
   },
   "source": [
    "### Dropout regularization\n",
    "\n",
    "Furthermore, we can perform dropout regularization. This has the effect of picking a random proportion of the inputs and putting their coefficients as zero (in training). This is a kind of regularization that tries to control coadaptation of neurons (some depend on others strongly to give the correct output)."
   ]
  },
  {
   "cell_type": "code",
   "execution_count": 25,
   "metadata": {
    "collapsed": false
   },
   "outputs": [],
   "source": [
    "entrada_var = T.tensor4('entradas')\n",
    "respuesta_var = T.ivector('respuesta')\n",
    "\n",
    "capa_entrada = layers.InputLayer((n_lote, 1, im_ancho, im_alto), entrada_var)\n",
    "\n",
    "np.random.seed(108783)\n",
    "\n",
    "capa_conv_1 = layers.Conv2DLayer(\n",
    "    capa_entrada,\n",
    "    num_filters = 6,\n",
    "    filter_size = (5,5),\n",
    "    nonlinearity = rectify)\n",
    "\n",
    "capa_pool_1 = layers.MaxPool2DLayer(\n",
    "    capa_conv_1,\n",
    "    pool_size = (2,2)\n",
    ")\n",
    "\n",
    "capa_dp_1 = layers.DropoutLayer(capa_pool_1, p=0.5)\n",
    "\n",
    "capa_conv_2 = layers.Conv2DLayer(\n",
    "    capa_pool_1,\n",
    "    num_filters = 20,\n",
    "    filter_size = (5,5),\n",
    "    nonlinearity = rectify\n",
    ")\n",
    "\n",
    "capa_pool_2 = layers.MaxPool2DLayer(\n",
    "    capa_conv_2,\n",
    "    pool_size = (2,2)\n",
    ")\n",
    "\n",
    "capa_dp_2 = layers.DropoutLayer(capa_pool_2, p=0.5)\n",
    "\n",
    "capa_oculta = layers.DenseLayer(\n",
    "    capa_dp_2,\n",
    "    num_units = 150,\n",
    "    nonlinearity = rectify\n",
    ")\n",
    "\n",
    "capa_dropout = layers.DropoutLayer(capa_oculta, p=0.5)\n",
    "\n",
    "capa_salida = layers.DenseLayer(\n",
    "    capa_dropout,\n",
    "    num_units = 10,\n",
    "    nonlinearity = softmax\n",
    ")\n"
   ]
  },
  {
   "cell_type": "code",
   "execution_count": 26,
   "metadata": {
    "collapsed": false
   },
   "outputs": [
    {
     "name": "stdout",
     "output_type": "stream",
     "text": [
      "Epoch 1 of 400 took 2.632s\n",
      "  training loss:\t\t2.2849\n",
      "  test loss:     \t\t2.1509\n",
      "  accuracy on test: \t\t29.90 %\n",
      "Epoch 2 of 400 took 1.937s\n",
      "  training loss:\t\t2.0721\n",
      "  test loss:     \t\t1.7719\n",
      "  accuracy on test: \t\t34.90 %\n",
      "Epoch 3 of 400 took 1.930s\n",
      "  training loss:\t\t1.6970\n",
      "  test loss:     \t\t1.2112\n",
      "  accuracy on test: \t\t69.35 %\n",
      "Epoch 4 of 400 took 1.924s\n",
      "  training loss:\t\t1.2492\n",
      "  test loss:     \t\t0.7517\n",
      "  accuracy on test: \t\t82.85 %\n",
      "Epoch 5 of 400 took 2.212s\n",
      "  training loss:\t\t0.9025\n",
      "  test loss:     \t\t0.5303\n",
      "  accuracy on test: \t\t85.85 %\n",
      "Epoch 6 of 400 took 2.627s\n",
      "  training loss:\t\t0.7055\n",
      "  test loss:     \t\t0.4217\n",
      "  accuracy on test: \t\t88.35 %\n",
      "Epoch 7 of 400 took 2.622s\n",
      "  training loss:\t\t0.5918\n",
      "  test loss:     \t\t0.3594\n",
      "  accuracy on test: \t\t89.45 %\n",
      "Epoch 8 of 400 took 2.621s\n",
      "  training loss:\t\t0.5112\n",
      "  test loss:     \t\t0.3222\n",
      "  accuracy on test: \t\t90.90 %\n",
      "Epoch 9 of 400 took 2.624s\n",
      "  training loss:\t\t0.4675\n",
      "  test loss:     \t\t0.2939\n",
      "  accuracy on test: \t\t91.50 %\n",
      "Epoch 10 of 400 took 2.623s\n",
      "  training loss:\t\t0.4145\n",
      "  test loss:     \t\t0.2721\n",
      "  accuracy on test: \t\t91.85 %\n",
      "Epoch 11 of 400 took 2.641s\n",
      "  training loss:\t\t0.3692\n",
      "  test loss:     \t\t0.2599\n",
      "  accuracy on test: \t\t92.15 %\n",
      "Epoch 21 of 400 took 1.971s\n",
      "  training loss:\t\t0.2258\n",
      "  test loss:     \t\t0.1873\n",
      "  accuracy on test: \t\t94.50 %\n",
      "Epoch 31 of 400 took 1.960s\n",
      "  training loss:\t\t0.1698\n",
      "  test loss:     \t\t0.1670\n",
      "  accuracy on test: \t\t95.45 %\n",
      "Epoch 41 of 400 took 2.016s\n",
      "  training loss:\t\t0.1404\n",
      "  test loss:     \t\t0.1573\n",
      "  accuracy on test: \t\t95.30 %\n",
      "Epoch 51 of 400 took 2.003s\n",
      "  training loss:\t\t0.1230\n",
      "  test loss:     \t\t0.1445\n",
      "  accuracy on test: \t\t96.00 %\n",
      "Epoch 61 of 400 took 2.011s\n",
      "  training loss:\t\t0.1042\n",
      "  test loss:     \t\t0.1420\n",
      "  accuracy on test: \t\t96.30 %\n",
      "Epoch 71 of 400 took 2.010s\n",
      "  training loss:\t\t0.0940\n",
      "  test loss:     \t\t0.1367\n",
      "  accuracy on test: \t\t96.25 %\n",
      "Epoch 81 of 400 took 1.975s\n",
      "  training loss:\t\t0.0886\n",
      "  test loss:     \t\t0.1342\n",
      "  accuracy on test: \t\t96.45 %\n",
      "Epoch 91 of 400 took 1.976s\n",
      "  training loss:\t\t0.0828\n",
      "  test loss:     \t\t0.1330\n",
      "  accuracy on test: \t\t96.45 %\n",
      "Epoch 101 of 400 took 1.995s\n",
      "  training loss:\t\t0.0751\n",
      "  test loss:     \t\t0.1305\n",
      "  accuracy on test: \t\t96.40 %\n",
      "Epoch 111 of 400 took 1.909s\n",
      "  training loss:\t\t0.0707\n",
      "  test loss:     \t\t0.1264\n",
      "  accuracy on test: \t\t96.65 %\n",
      "Epoch 121 of 400 took 2.049s\n",
      "  training loss:\t\t0.0737\n",
      "  test loss:     \t\t0.1223\n",
      "  accuracy on test: \t\t96.90 %\n",
      "Epoch 131 of 400 took 1.904s\n",
      "  training loss:\t\t0.0683\n",
      "  test loss:     \t\t0.1256\n",
      "  accuracy on test: \t\t96.75 %\n",
      "Epoch 141 of 400 took 2.028s\n",
      "  training loss:\t\t0.0648\n",
      "  test loss:     \t\t0.1208\n",
      "  accuracy on test: \t\t96.90 %\n",
      "Epoch 151 of 400 took 1.971s\n",
      "  training loss:\t\t0.0541\n",
      "  test loss:     \t\t0.1200\n",
      "  accuracy on test: \t\t97.05 %\n",
      "Epoch 161 of 400 took 1.947s\n",
      "  training loss:\t\t0.0571\n",
      "  test loss:     \t\t0.1202\n",
      "  accuracy on test: \t\t97.05 %\n",
      "Epoch 171 of 400 took 2.645s\n",
      "  training loss:\t\t0.0561\n",
      "  test loss:     \t\t0.1219\n",
      "  accuracy on test: \t\t96.90 %\n",
      "Epoch 181 of 400 took 1.931s\n",
      "  training loss:\t\t0.0550\n",
      "  test loss:     \t\t0.1172\n",
      "  accuracy on test: \t\t96.90 %\n",
      "Epoch 191 of 400 took 2.019s\n",
      "  training loss:\t\t0.0532\n",
      "  test loss:     \t\t0.1202\n",
      "  accuracy on test: \t\t96.70 %\n",
      "Epoch 201 of 400 took 1.951s\n",
      "  training loss:\t\t0.0461\n",
      "  test loss:     \t\t0.1186\n",
      "  accuracy on test: \t\t96.75 %\n",
      "Epoch 211 of 400 took 1.953s\n",
      "  training loss:\t\t0.0498\n",
      "  test loss:     \t\t0.1136\n",
      "  accuracy on test: \t\t96.85 %\n",
      "Epoch 221 of 400 took 1.989s\n",
      "  training loss:\t\t0.0462\n",
      "  test loss:     \t\t0.1167\n",
      "  accuracy on test: \t\t96.85 %\n",
      "Epoch 231 of 400 took 2.636s\n",
      "  training loss:\t\t0.0451\n",
      "  test loss:     \t\t0.1151\n",
      "  accuracy on test: \t\t97.00 %\n",
      "Epoch 241 of 400 took 2.020s\n",
      "  training loss:\t\t0.0461\n",
      "  test loss:     \t\t0.1174\n",
      "  accuracy on test: \t\t96.95 %\n",
      "Epoch 251 of 400 took 1.933s\n",
      "  training loss:\t\t0.0409\n",
      "  test loss:     \t\t0.1162\n",
      "  accuracy on test: \t\t97.00 %\n",
      "Epoch 261 of 400 took 1.958s\n",
      "  training loss:\t\t0.0529\n",
      "  test loss:     \t\t0.1147\n",
      "  accuracy on test: \t\t96.65 %\n",
      "Epoch 271 of 400 took 1.904s\n",
      "  training loss:\t\t0.0420\n",
      "  test loss:     \t\t0.1143\n",
      "  accuracy on test: \t\t96.90 %\n",
      "Epoch 281 of 400 took 1.966s\n",
      "  training loss:\t\t0.0418\n",
      "  test loss:     \t\t0.1132\n",
      "  accuracy on test: \t\t96.95 %\n",
      "Epoch 291 of 400 took 2.146s\n",
      "  training loss:\t\t0.0387\n",
      "  test loss:     \t\t0.1150\n",
      "  accuracy on test: \t\t97.00 %\n",
      "Epoch 301 of 400 took 1.916s\n",
      "  training loss:\t\t0.0409\n",
      "  test loss:     \t\t0.1137\n",
      "  accuracy on test: \t\t96.90 %\n",
      "Epoch 311 of 400 took 2.631s\n",
      "  training loss:\t\t0.0366\n",
      "  test loss:     \t\t0.1122\n",
      "  accuracy on test: \t\t96.95 %\n",
      "Epoch 321 of 400 took 1.910s\n",
      "  training loss:\t\t0.0419\n",
      "  test loss:     \t\t0.1101\n",
      "  accuracy on test: \t\t96.90 %\n",
      "Epoch 331 of 400 took 1.968s\n",
      "  training loss:\t\t0.0370\n",
      "  test loss:     \t\t0.1150\n",
      "  accuracy on test: \t\t96.75 %\n",
      "Epoch 341 of 400 took 1.904s\n",
      "  training loss:\t\t0.0401\n",
      "  test loss:     \t\t0.1115\n",
      "  accuracy on test: \t\t96.95 %\n",
      "Epoch 351 of 400 took 1.905s\n",
      "  training loss:\t\t0.0368\n",
      "  test loss:     \t\t0.1086\n",
      "  accuracy on test: \t\t96.95 %\n",
      "Epoch 361 of 400 took 1.907s\n",
      "  training loss:\t\t0.0427\n",
      "  test loss:     \t\t0.1107\n",
      "  accuracy on test: \t\t96.95 %\n",
      "Epoch 371 of 400 took 1.906s\n",
      "  training loss:\t\t0.0352\n",
      "  test loss:     \t\t0.1111\n",
      "  accuracy on test: \t\t96.95 %\n",
      "Epoch 381 of 400 took 2.657s\n",
      "  training loss:\t\t0.0382\n",
      "  test loss:     \t\t0.1116\n",
      "  accuracy on test: \t\t97.05 %\n",
      "Epoch 391 of 400 took 1.913s\n",
      "  training loss:\t\t0.0341\n",
      "  test loss:     \t\t0.1078\n",
      "  accuracy on test: \t\t97.10 %\n"
     ]
    }
   ],
   "source": [
    "pred_2 = lasagne.layers.get_output(capa_salida)\n",
    "perdida_2 = lasagne.objectives.categorical_crossentropy(pred_2, respuesta_var)\n",
    "perdida_2 = perdida_2.mean()\n",
    "reg_layers = {capa_oculta:0.001,capa_conv_1:0.001, capa_conv_2:0.001, \n",
    "              capa_salida:0.001}\n",
    "l2_penalty = regularize_layer_params_weighted(reg_layers, l2)\n",
    "perdida_reg_2 = perdida_2 + l2_penalty\n",
    "\n",
    "prueba_pred = lasagne.layers.get_output(capa_salida, deterministic=True)\n",
    "perdida_pr_2 = lasagne.objectives.categorical_crossentropy(prueba_pred, respuesta_var)\n",
    "perdida_pr_2 = perdida_pr_2.mean()\n",
    "test_acc = T.mean(T.eq(T.argmax(prueba_pred, axis=1), respuesta_var))\n",
    "\n",
    "params_2 =lasagne.layers.get_all_params(capa_salida, trainable = True)\n",
    "updates_2 = lasagne.updates.nesterov_momentum(perdida_reg_2, params_2, learning_rate=0.01,\n",
    "                                              momentum=0.9)\n",
    "\n",
    "entrena_fn_2 = theano.function([entrada_var, respuesta_var], perdida_2, updates=updates_2)\n",
    "valid_fn_2 = theano.function([entrada_var, respuesta_var], [perdida_pr_2, test_acc])\n",
    "\n",
    "ajustar_red(400, x_train,y_train, x_test,y_test, entrena_fn_2, valid_fn_2)"
   ]
  },
  {
   "cell_type": "markdown",
   "metadata": {},
   "source": [
    "And again we can understand the operation of the network by checking the weights. For the first convolution layer:"
   ]
  },
  {
   "cell_type": "code",
   "execution_count": 27,
   "metadata": {
    "collapsed": false
   },
   "outputs": [
    {
     "name": "stdout",
     "output_type": "stream",
     "text": [
      "(6, 1, 5, 5)\n"
     ]
    },
    {
     "data": {
      "image/png": "[encoded data removed]",
      "text/plain": [
       "<matplotlib.figure.Figure at 0x7feb865a09d0>"
      ]
     },
     "metadata": {},
     "output_type": "display_data"
    }
   ],
   "source": [
    "import matplotlib.cm as cm\n",
    "import matplotlib.gridspec as gridspec\n",
    "pesos_1 = capa_conv_1.W.get_value()\n",
    "print pesos_1.shape\n",
    "\n",
    "rcParams['figure.figsize'] = (4,4)\n",
    "fig  = plt.figure()\n",
    "num_filt_1 = pesos_1.shape[0]\n",
    "gs = gridspec.GridSpec(1, num_filt_1)\n",
    "ax = [plt.subplot(gs[i]) for i in range(num_filt_1)]\n",
    "gs.update(hspace=0)\n",
    "gs.tight_layout(fig, h_pad=-2.0,w_pad=-2.0)\n",
    "for i in range(num_filt_1):\n",
    "    ax[i].imshow(pesos_1[i,0,:,:], cmap = cm.Greys_r, interpolation = 'none')\n",
    "    ax[i].axis('off')"
   ]
  },
  {
   "cell_type": "markdown",
   "metadata": {},
   "source": [
    "### References\n",
    "\n",
    "- [Lasagne documentation](http://lasagne.readthedocs.org)\n",
    "- [Dropout regularization](https://www.cs.toronto.edu/~hinton/absps/JMLRdropout.pdf)\n",
    "- [Mini-batch SGD](https://class.coursera.org/neuralnets-2012-001/lecture/59)\n",
    "- [Momentum methods to improve SGD](https://class.coursera.org/neuralnets-2012-001/lecture/63)\n",
    "- [Visualizing and understanding Convolutional Networks](https://www.cs.nyu.edu/~fergus/papers/zeilerECCV2014.pdf)"
   ]
  },
  {
   "cell_type": "code",
   "execution_count": null,
   "metadata": {
    "collapsed": true
   },
   "outputs": [],
   "source": []
  }
 ],
 "metadata": {
  "kernelspec": {
   "display_name": "Python 2",
   "language": "python",
   "name": "python2"
  },
  "language_info": {
   "codemirror_mode": {
    "name": "ipython",
    "version": 2
   },
   "file_extension": ".py",
   "mimetype": "text/x-python",
   "name": "python",
   "nbconvert_exporter": "python",
   "pygments_lexer": "ipython2",
   "version": "2.7.10"
  }
 },
 "nbformat": 4,
 "nbformat_minor": 0
}
